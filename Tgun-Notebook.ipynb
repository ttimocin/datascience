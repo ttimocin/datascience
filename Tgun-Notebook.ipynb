{
  "metadata": {
    "kernelspec": {
      "name": "python",
      "display_name": "Python (Pyodide)",
      "language": "python"
    },
    "language_info": {
      "codemirror_mode": {
        "name": "python",
        "version": 3
      },
      "file_extension": ".py",
      "mimetype": "text/x-python",
      "name": "python",
      "nbconvert_exporter": "python",
      "pygments_lexer": "ipython3",
      "version": "3.8"
    }
  },
  "nbformat_minor": 4,
  "nbformat": 4,
  "cells": [
    {
      "cell_type": "markdown",
      "source": "# Taygun's Jupyter Notebook",
      "metadata": {}
    },
    {
      "cell_type": "markdown",
      "source": "## Introduction\n\nThis notebook is intended for the course assignment. It will cover the necessary tasks and provide solutions as required by the course guidelines.",
      "metadata": {}
    },
    {
      "cell_type": "markdown",
      "source": "**Objectives**\n- Python\n- R\n- SQL\n",
      "metadata": {}
    },
    {
      "cell_type": "markdown",
      "source": "## Data Science Languages\n\nHere is a list of popular languages used in data science:\n\n- Python\n- R\n- SQL\n- Julia\n- Scala\n- C++\n- JS\n- Java\n- pHp\n- Go\n- Visual Basic\n- Ruby",
      "metadata": {}
    },
    {
      "cell_type": "markdown",
      "source": "## Data Science Libraries\n\nHere is a list of popular libraries used in data science:\n\n- Python Libraries (Scientifics Computing[Pandas, NumPy], Visualization [Matplotlib, Seaborn], Machine Learning and Deep Learning [Scikit-learn, Keras, TensorFlow, PyTorch]) \n- Apache Spark\n- Scala Libraries (Vegas, BigDL)\n- R Libraries (ggplot2, Keras, TensorFlow)",
      "metadata": {}
    },
    {
      "cell_type": "markdown",
      "source": "## Data Science Tools\n\n| Data Science Tools        |\n|-------------|\n| Jupyter     |\n| Pandas      |\n| NumPy       |\n| Scikit-learn|\n| TensorFlow  |\n| Tableau     |\n| SQL         |\n| RStudio     |",
      "metadata": {}
    },
    {
      "cell_type": "markdown",
      "source": "# Arithmetic operations\ncode = compile(\"3 + 3\", \"<string>\", \"eval\")\neval(code)\n# Result: 6",
      "metadata": {}
    },
    {
      "cell_type": "code",
      "source": "(3+4)+4\n#Result 11",
      "metadata": {
        "trusted": true
      },
      "outputs": [
        {
          "execution_count": 6,
          "output_type": "execute_result",
          "data": {
            "text/plain": "11"
          },
          "metadata": {}
        }
      ],
      "execution_count": 6
    },
    {
      "cell_type": "code",
      "source": "def minutes_to_hours(minutes):\n    hours = minutes / 60\n    return hours\n\n# Example\nminutes = 150  \nhours = minutes_to_hours(minutes)\nprint(f\"{minutes} minutes equals {hours:.2f} hours.\")",
      "metadata": {
        "trusted": true
      },
      "outputs": [
        {
          "name": "stdout",
          "text": "150 minutes equals 2.50 hours.\n",
          "output_type": "stream"
        }
      ],
      "execution_count": 9
    },
    {
      "cell_type": "markdown",
      "source": "**Author Name: Taygun Timocin**\n",
      "metadata": {}
    },
    {
      "cell_type": "code",
      "source": "",
      "metadata": {
        "trusted": true
      },
      "outputs": [],
      "execution_count": null
    }
  ]
}